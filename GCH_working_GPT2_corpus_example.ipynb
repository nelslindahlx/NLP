{
  "nbformat": 4,
  "nbformat_minor": 0,
  "metadata": {
    "colab": {
      "name": "GCH working GPT2 corpus example.ipynb",
      "provenance": [],
      "collapsed_sections": [],
      "toc_visible": true,
      "machine_shape": "hm",
      "include_colab_link": true
    },
    "kernelspec": {
      "name": "python3",
      "display_name": "Python 3"
    },
    "accelerator": "GPU"
  },
  "cells": [
    {
      "cell_type": "markdown",
      "metadata": {
        "id": "view-in-github",
        "colab_type": "text"
      },
      "source": [
        "<a href=\"https://colab.research.google.com/github/nelslindahlx/NLP/blob/master/GCH_working_GPT2_corpus_example.ipynb\" target=\"_parent\"><img src=\"https://colab.research.google.com/assets/colab-badge.svg\" alt=\"Open In Colab\"/></a>"
      ]
    },
    {
      "cell_type": "markdown",
      "metadata": {
        "id": "s3sMTD2rp0FP",
        "colab_type": "text"
      },
      "source": [
        "This was working code and the corpus file was live on 6/8/2020.\n",
        "\n",
        "> Please note that synthetic writing could be mean or otherwise terrible... My apologies in advance\n",
        "\n"
      ]
    },
    {
      "cell_type": "markdown",
      "metadata": {
        "id": "53rjf4T1CHsR",
        "colab_type": "text"
      },
      "source": [
        "# Working example of GPT-2 using gpt-2-simple"
      ]
    },
    {
      "cell_type": "markdown",
      "metadata": {
        "id": "XGQ9uyZvvMNU",
        "colab_type": "text"
      },
      "source": [
        "Want to know what GPU you have? Run the command below..."
      ]
    },
    {
      "cell_type": "code",
      "metadata": {
        "id": "F3iqQsxFvMAg",
        "colab_type": "code",
        "colab": {
          "base_uri": "https://localhost:8080/",
          "height": 302
        },
        "outputId": "720e115e-e661-4e19-983d-3a021e3b29df"
      },
      "source": [
        "!nvidia-smi"
      ],
      "execution_count": 1,
      "outputs": [
        {
          "output_type": "stream",
          "text": [
            "Mon Jun  8 21:16:06 2020       \n",
            "+-----------------------------------------------------------------------------+\n",
            "| NVIDIA-SMI 440.82       Driver Version: 418.67       CUDA Version: 10.1     |\n",
            "|-------------------------------+----------------------+----------------------+\n",
            "| GPU  Name        Persistence-M| Bus-Id        Disp.A | Volatile Uncorr. ECC |\n",
            "| Fan  Temp  Perf  Pwr:Usage/Cap|         Memory-Usage | GPU-Util  Compute M. |\n",
            "|===============================+======================+======================|\n",
            "|   0  Tesla P100-PCIE...  Off  | 00000000:00:04.0 Off |                    0 |\n",
            "| N/A   44C    P0    27W / 250W |      0MiB / 16280MiB |      0%      Default |\n",
            "+-------------------------------+----------------------+----------------------+\n",
            "                                                                               \n",
            "+-----------------------------------------------------------------------------+\n",
            "| Processes:                                                       GPU Memory |\n",
            "|  GPU       PID   Type   Process name                             Usage      |\n",
            "|=============================================================================|\n",
            "|  No running processes found                                                 |\n",
            "+-----------------------------------------------------------------------------+\n"
          ],
          "name": "stdout"
        }
      ]
    },
    {
      "cell_type": "markdown",
      "metadata": {
        "id": "AWxTLEm3COGd",
        "colab_type": "text"
      },
      "source": [
        "The best method to use the OpenAI GPT-2 model is via gpt-2-simple. It works well enough. Some methods that I tried and that failed are commented out before it. The only method that seems to work is the gpt-2-simple"
      ]
    },
    {
      "cell_type": "code",
      "metadata": {
        "id": "4caFK3Zd_O7V",
        "colab_type": "code",
        "outputId": "9caab853-581f-4165-c61a-bcbb5b663399",
        "colab": {
          "base_uri": "https://localhost:8080/",
          "height": 356
        }
      },
      "source": [
        "# !pip uninstall tensorflow -y \n",
        "# !pip uninstall tensorflow-gpu -y\n",
        "# !pip install tensorflow==1.14\n",
        "# !pip install tensorflow-gpu==1.4.1\n",
        "# !pip3 install tensorflow==1.12.0\n",
        "!pip install gpt-2-simple"
      ],
      "execution_count": 2,
      "outputs": [
        {
          "output_type": "stream",
          "text": [
            "Collecting gpt-2-simple\n",
            "  Downloading https://files.pythonhosted.org/packages/6f/e4/a90add0c3328eed38a46c3ed137f2363b5d6a07bf13ee5d5d4d1e480b8c3/gpt_2_simple-0.7.1.tar.gz\n",
            "Requirement already satisfied: regex in /usr/local/lib/python3.6/dist-packages (from gpt-2-simple) (2019.12.20)\n",
            "Requirement already satisfied: requests in /usr/local/lib/python3.6/dist-packages (from gpt-2-simple) (2.23.0)\n",
            "Requirement already satisfied: tqdm in /usr/local/lib/python3.6/dist-packages (from gpt-2-simple) (4.41.1)\n",
            "Requirement already satisfied: numpy in /usr/local/lib/python3.6/dist-packages (from gpt-2-simple) (1.18.4)\n",
            "Collecting toposort\n",
            "  Downloading https://files.pythonhosted.org/packages/e9/8a/321cd8ea5f4a22a06e3ba30ef31ec33bea11a3443eeb1d89807640ee6ed4/toposort-1.5-py2.py3-none-any.whl\n",
            "Requirement already satisfied: idna<3,>=2.5 in /usr/local/lib/python3.6/dist-packages (from requests->gpt-2-simple) (2.9)\n",
            "Requirement already satisfied: urllib3!=1.25.0,!=1.25.1,<1.26,>=1.21.1 in /usr/local/lib/python3.6/dist-packages (from requests->gpt-2-simple) (1.24.3)\n",
            "Requirement already satisfied: chardet<4,>=3.0.2 in /usr/local/lib/python3.6/dist-packages (from requests->gpt-2-simple) (3.0.4)\n",
            "Requirement already satisfied: certifi>=2017.4.17 in /usr/local/lib/python3.6/dist-packages (from requests->gpt-2-simple) (2020.4.5.1)\n",
            "Building wheels for collected packages: gpt-2-simple\n",
            "  Building wheel for gpt-2-simple (setup.py) ... \u001b[?25l\u001b[?25hdone\n",
            "  Created wheel for gpt-2-simple: filename=gpt_2_simple-0.7.1-cp36-none-any.whl size=23581 sha256=f51102ad5ca90af4ebdb488909a0db29d2d7350eae4357e852a4163a795a9d14\n",
            "  Stored in directory: /root/.cache/pip/wheels/0c/f8/23/b53ce437504597edff76bf9c3b8de08ad716f74f6c6baaa91a\n",
            "Successfully built gpt-2-simple\n",
            "Installing collected packages: toposort, gpt-2-simple\n",
            "Successfully installed gpt-2-simple-0.7.1 toposort-1.5\n"
          ],
          "name": "stdout"
        }
      ]
    },
    {
      "cell_type": "markdown",
      "metadata": {
        "id": "mkoGbGniCdrV",
        "colab_type": "text"
      },
      "source": [
        "You can now use the 1x TensorFlow selection and check what GPU you have. "
      ]
    },
    {
      "cell_type": "code",
      "metadata": {
        "id": "ymSkRj-g-6Om",
        "colab_type": "code",
        "outputId": "b1e13d99-2177-44b3-ae42-f505dcdcf80e",
        "colab": {
          "base_uri": "https://localhost:8080/",
          "height": 34
        }
      },
      "source": [
        "%tensorflow_version 1.x"
      ],
      "execution_count": 3,
      "outputs": [
        {
          "output_type": "stream",
          "text": [
            "TensorFlow 1.x selected.\n"
          ],
          "name": "stdout"
        }
      ]
    },
    {
      "cell_type": "markdown",
      "metadata": {
        "id": "2vGu6fSdDSVR",
        "colab_type": "text"
      },
      "source": [
        "This is our import of the GPT-2 we installed above. You get the warning that is the root of the GPT-2 problem noting that \"The TensorFlow contrib module will not be included in TensorFlow 2.0.'\n",
        "\n"
      ]
    },
    {
      "cell_type": "code",
      "metadata": {
        "id": "tC3ohher-i-U",
        "colab_type": "code",
        "outputId": "5284eca8-a3c5-4732-b0bd-308367f154f1",
        "colab": {
          "base_uri": "https://localhost:8080/",
          "height": 151
        }
      },
      "source": [
        "import gpt_2_simple as gpt2\n",
        "import os\n",
        "import requests\n"
      ],
      "execution_count": 4,
      "outputs": [
        {
          "output_type": "stream",
          "text": [
            "WARNING:tensorflow:\n",
            "The TensorFlow contrib module will not be included in TensorFlow 2.0.\n",
            "For more information, please see:\n",
            "  * https://github.com/tensorflow/community/blob/master/rfcs/20180907-contrib-sunset.md\n",
            "  * https://github.com/tensorflow/addons\n",
            "  * https://github.com/tensorflow/io (for I/O related ops)\n",
            "If you depend on functionality not listed there, please file an issue.\n",
            "\n"
          ],
          "name": "stdout"
        }
      ]
    },
    {
      "cell_type": "markdown",
      "metadata": {
        "id": "crNiRrIeDv5z",
        "colab_type": "text"
      },
      "source": [
        "This snippet is using the 355M model. The other model numbers are commented out above for later adventure "
      ]
    },
    {
      "cell_type": "code",
      "metadata": {
        "id": "3CJwM6gA-rx5",
        "colab_type": "code",
        "outputId": "ea41b5aa-f33a-483f-bc4c-b483eb920206",
        "colab": {
          "base_uri": "https://localhost:8080/",
          "height": 151
        }
      },
      "source": [
        "# !python3 download_model.py 124M\n",
        "# !python3 download_model.py 355M\n",
        "# !python3 download_model.py 774M\n",
        "# !python3 download_model.py 1558M\n",
        "model_name = \"355M\"\n",
        "if not os.path.isdir(os.path.join(\"models\", model_name)):\n",
        "\tprint(f\"Downloading {model_name} model...\")\n",
        "\tgpt2.download_gpt2(model_name=model_name)   # model is saved into current directory under /content/models\n"
      ],
      "execution_count": 5,
      "outputs": [
        {
          "output_type": "stream",
          "text": [
            "Fetching checkpoint: 1.05Mit [00:00, 507Mit/s]                                                      \n",
            "Fetching encoder.json: 1.05Mit [00:00, 109Mit/s]                                                    \n",
            "Fetching hparams.json: 1.05Mit [00:00, 1.06Git/s]                                                   \n",
            "Fetching model.ckpt.data-00000-of-00001:   0%|                         | 0.00/1.42G [00:00<?, ?it/s]"
          ],
          "name": "stderr"
        },
        {
          "output_type": "stream",
          "text": [
            "Downloading 355M model...\n"
          ],
          "name": "stdout"
        },
        {
          "output_type": "stream",
          "text": [
            "Fetching model.ckpt.data-00000-of-00001: 1.42Git [00:07, 188Mit/s]                                  \n",
            "Fetching model.ckpt.index: 1.05Mit [00:00, 569Mit/s]                                                \n",
            "Fetching model.ckpt.meta: 1.05Mit [00:00, 94.6Mit/s]                                                \n",
            "Fetching vocab.bpe: 1.05Mit [00:00, 198Mit/s]                                                       \n"
          ],
          "name": "stderr"
        }
      ]
    },
    {
      "cell_type": "markdown",
      "metadata": {
        "id": "DCTbUpYov5Hr",
        "colab_type": "text"
      },
      "source": [
        "# Getting the corpus file"
      ]
    },
    {
      "cell_type": "markdown",
      "metadata": {
        "id": "ZNLNFaazwB2y",
        "colab_type": "text"
      },
      "source": [
        "To be able to go get files we need gdown"
      ]
    },
    {
      "cell_type": "code",
      "metadata": {
        "id": "VTGSoBt2v-0l",
        "colab_type": "code",
        "outputId": "f49beb20-cb94-4dfe-878a-e7489cc1ff4f",
        "colab": {
          "base_uri": "https://localhost:8080/",
          "height": 171
        }
      },
      "source": [
        "pip install gdown"
      ],
      "execution_count": 6,
      "outputs": [
        {
          "output_type": "stream",
          "text": [
            "Requirement already satisfied: gdown in /usr/local/lib/python3.6/dist-packages (3.6.4)\n",
            "Requirement already satisfied: tqdm in /usr/local/lib/python3.6/dist-packages (from gdown) (4.41.1)\n",
            "Requirement already satisfied: six in /usr/local/lib/python3.6/dist-packages (from gdown) (1.12.0)\n",
            "Requirement already satisfied: requests in /usr/local/lib/python3.6/dist-packages (from gdown) (2.23.0)\n",
            "Requirement already satisfied: urllib3!=1.25.0,!=1.25.1,<1.26,>=1.21.1 in /usr/local/lib/python3.6/dist-packages (from requests->gdown) (1.24.3)\n",
            "Requirement already satisfied: chardet<4,>=3.0.2 in /usr/local/lib/python3.6/dist-packages (from requests->gdown) (3.0.4)\n",
            "Requirement already satisfied: certifi>=2017.4.17 in /usr/local/lib/python3.6/dist-packages (from requests->gdown) (2020.4.5.1)\n",
            "Requirement already satisfied: idna<3,>=2.5 in /usr/local/lib/python3.6/dist-packages (from requests->gdown) (2.9)\n"
          ],
          "name": "stdout"
        }
      ]
    },
    {
      "cell_type": "markdown",
      "metadata": {
        "id": "tTWl3DxBwBz7",
        "colab_type": "text"
      },
      "source": [
        "We need to download the corpus file to do some training on it... This one gets the corpus I plan on using from a shareable Google Drive link"
      ]
    },
    {
      "cell_type": "code",
      "metadata": {
        "id": "gnme3geCwKZ3",
        "colab_type": "code",
        "outputId": "0d86a57a-7a5c-403c-98a8-b650e7025309",
        "colab": {
          "base_uri": "https://localhost:8080/",
          "height": 84
        }
      },
      "source": [
        "!gdown --id 1-VdKEgB-LpDSPtiIsI6iDfoDlN2BUAgz --output GCH.txt"
      ],
      "execution_count": 7,
      "outputs": [
        {
          "output_type": "stream",
          "text": [
            "Downloading...\n",
            "From: https://drive.google.com/uc?id=1-VdKEgB-LpDSPtiIsI6iDfoDlN2BUAgz\n",
            "To: /content/GCH.txt\n",
            "\r  0% 0.00/136k [00:00<?, ?B/s]\r100% 136k/136k [00:00<00:00, 40.2MB/s]\n"
          ],
          "name": "stdout"
        }
      ]
    },
    {
      "cell_type": "markdown",
      "metadata": {
        "id": "rmmAofSlxXPH",
        "colab_type": "text"
      },
      "source": [
        "Set the file name to my Graduation with Civic Honors corpus file GCH.txt..."
      ]
    },
    {
      "cell_type": "code",
      "metadata": {
        "id": "63Pl03i2wSuF",
        "colab_type": "code",
        "colab": {}
      },
      "source": [
        "file_name = \"GCH.txt\""
      ],
      "execution_count": 0,
      "outputs": []
    },
    {
      "cell_type": "markdown",
      "metadata": {
        "id": "IguZVojTE3g_",
        "colab_type": "text"
      },
      "source": [
        "This will take 20 to 30 minutes to run... "
      ]
    },
    {
      "cell_type": "code",
      "metadata": {
        "id": "NvRR1T5jwTfV",
        "colab_type": "code",
        "outputId": "528a2646-a8af-4f96-d105-82de77ccb44b",
        "colab": {
          "base_uri": "https://localhost:8080/",
          "height": 1000
        }
      },
      "source": [
        "sess = gpt2.start_tf_sess()\n",
        "\n",
        "gpt2.finetune(sess,\n",
        "              dataset=file_name,\n",
        "              model_name='355M',\n",
        "              steps=2000,\n",
        "              restore_from='fresh',\n",
        "              run_name='run1',\n",
        "              print_every=10,\n",
        "              sample_every=200,\n",
        "              save_every=500\n",
        "              )"
      ],
      "execution_count": 9,
      "outputs": [
        {
          "output_type": "stream",
          "text": [
            "WARNING:tensorflow:From /usr/local/lib/python3.6/dist-packages/gpt_2_simple/src/sample.py:17: where (from tensorflow.python.ops.array_ops) is deprecated and will be removed in a future version.\n",
            "Instructions for updating:\n",
            "Use tf.where in 2.0, which has the same broadcast rule as np.where\n",
            "WARNING:tensorflow:From /usr/local/lib/python3.6/dist-packages/gpt_2_simple/src/memory_saving_gradients.py:62: get_backward_walk_ops (from tensorflow.contrib.graph_editor.select) is deprecated and will be removed after 2019-06-06.\n",
            "Instructions for updating:\n",
            "Please use tensorflow.python.ops.op_selector.get_backward_walk_ops.\n",
            "Loading checkpoint models/355M/model.ckpt\n",
            "INFO:tensorflow:Restoring parameters from models/355M/model.ckpt\n"
          ],
          "name": "stdout"
        },
        {
          "output_type": "stream",
          "text": [
            "\r  0%|          | 0/1 [00:00<?, ?it/s]"
          ],
          "name": "stderr"
        },
        {
          "output_type": "stream",
          "text": [
            "Loading dataset...\n"
          ],
          "name": "stdout"
        },
        {
          "output_type": "stream",
          "text": [
            "100%|██████████| 1/1 [00:00<00:00,  4.45it/s]\n"
          ],
          "name": "stderr"
        },
        {
          "output_type": "stream",
          "text": [
            "dataset has 24213 tokens\n",
            "Training...\n",
            "[10 | 19.14] loss=2.07 avg=2.07\n",
            "[20 | 27.97] loss=2.45 avg=2.26\n",
            "[30 | 36.81] loss=2.75 avg=2.43\n",
            "[40 | 45.65] loss=2.36 avg=2.41\n",
            "[50 | 54.48] loss=1.44 avg=2.21\n",
            "[60 | 63.31] loss=0.96 avg=2.00\n",
            "[70 | 72.14] loss=1.48 avg=1.92\n",
            "[80 | 80.97] loss=0.99 avg=1.80\n",
            "[90 | 89.81] loss=0.62 avg=1.66\n",
            "[100 | 98.64] loss=0.83 avg=1.58\n",
            "[110 | 107.48] loss=0.21 avg=1.45\n",
            "[120 | 116.31] loss=1.69 avg=1.47\n",
            "[130 | 125.14] loss=0.48 avg=1.39\n",
            "[140 | 133.98] loss=0.80 avg=1.34\n",
            "[150 | 142.82] loss=0.22 avg=1.26\n",
            "[160 | 151.65] loss=0.13 avg=1.19\n",
            "[170 | 160.49] loss=0.65 avg=1.15\n",
            "[180 | 169.32] loss=0.13 avg=1.09\n",
            "[190 | 178.16] loss=0.21 avg=1.04\n",
            "[200 | 186.99] loss=0.07 avg=0.99\n",
            "======== SAMPLE 1 ========\n",
            " to develop the potential of each new program. \n",
            "    The idea behind looking beyond what is possible is to build a bridge to the future. Thinking about how to harness the potential of technology for good is the beginning of understanding what is possible on the individual level and also how to leverage technology for the common good. That said, the assumptions behind looking at technology as a bridge are that change can occur in a smooth and nonpolitical way and that technology will change the way people work together. These assumptions are important to make when thinking about what is possible on the individual level and also when thinking about how change will manifest itself. Change in technology can bring about a host of positive trends, such as increased productivity, decreased waste, and increased efficiency. These trends will be difficult to stop if the current system is not changed.\n",
            "     Looking beyond what is possible on the individual level also allows you to look at problems in a new perspective. Problems that were not as challenging on the individual level can now be defined as problems in which change is possible. This perspective provides a unique opportunity to look at problems in a way that will enable you to say with some authority that change is not only possible, but also essential to strengthening the community. Looking at problems in this context requires a certain amount of skepticism, not only because of the potential loss of individual initiative, but also because of the ramifications for the community at large if the community does not adapt to technology. \n",
            "\n",
            "Chapter 4: Who Is Creating the Technology?\n",
            "It is possible to brainstorm a list of individuals and organizations that you feel have the potential to create technology. In fact, this is one of the primary purposes of any program to gather ideas from individuals. The idea is that while technology may change the way individuals work together, it does not change the underlying dynamics of the community. Individuals can work together as a community to develop technology that could be shared with other communities. Thus, the potential to expand the civic honors program is not lost along the way.\n",
            "      With a little effort, it is also possible to compile a working list of organizations within the community that might be willing to donate technology. The list is much longer than this because some organizations within the community actively participate in the tech industry. In fact, the majority of community organizations participate in some way or another in the technology industry. This does not mean that individuals within the community are not striving to create a world where individuals can work together to solve community problems. Rather, it means that the methods for reaching individuals within the community do not require the involvement of a nonprofit organization. Instead, organizations can use existing resources to participate in the civic honors program. This situation creates the potential to increase the number of options for individuals to donate technology to the community. For organizations that might not have the time or resources to implement a civic honors program, this ability to bring individuals together without having to spend tax dollars on television ads will make a difference.\n",
            "     How organizations respond to the civic honors program will determine the course of the program. It is possible to ask the question \"How will organizations develop a response to the civic honors program when so many individuals within the community already have these organizations in place?\" Answering this question by using data to help the process is essential to building a sustainable program that can build momentum. Being able to analyze patterns in the data will allow organizations to take stock of how the program is developing and will help identify areas that need the most work. This process, however, will take a lot of trial and error to determine exactly which organizations need the most help and how to get them the most help. Again, this process can establish a strong foundation for expanding the civic honors program beyond the organizations that need assistance.\n",
            "     Identifying need early in the development of the program will allow resources to be better spent on helping the community rather than having to recruit volunteers. Once the initial need has been addressed, the schedule for increasing participation in the program should be easy. The schedule below details how the civic honors program can introduce individuals to the community. It is hard to imagine a more natural fit for an organization working to benefit the community than the university. \n",
            "\n",
            "CROSS REFERENCES\n",
            "Beck, David. 2001. The Path to Community: Why Communities Matter. San Francisco, CA: World Wide Web. \n",
            "Bozeman, Neil. 1998. Securing the Future of the Community: Defining Change. San Francisco, CA: HarperCollins. \n",
            "Cole, Robert J. 1992. Securing the Future of the Community: The Rise of the Information Technology Movement. Berkeley, CA: University of California Press. \n",
            "Dionne, Steven. 2000. Defining Change in the Information Society. New York, NY: Basic Books. \n",
            "Friedman, Robert. 1997. Technology and Civic Participation. Chapel Hill, NC: Newsmax. \n",
            "Gulick, Elizabeth. 2001. Civic Engagement: Making the Community Work Like a Sport. Washington,\n",
            "\n",
            "[210 | 219.88] loss=0.09 avg=0.94\n",
            "[220 | 228.70] loss=0.06 avg=0.89\n",
            "[230 | 237.53] loss=0.06 avg=0.85\n",
            "[240 | 246.36] loss=0.13 avg=0.82\n",
            "[250 | 255.19] loss=0.07 avg=0.79\n",
            "[260 | 264.02] loss=0.08 avg=0.76\n",
            "[270 | 272.85] loss=0.06 avg=0.73\n",
            "[280 | 281.68] loss=0.14 avg=0.70\n",
            "[290 | 290.50] loss=0.05 avg=0.68\n",
            "[300 | 299.33] loss=0.07 avg=0.65\n",
            "[310 | 308.17] loss=0.04 avg=0.63\n",
            "[320 | 317.00] loss=0.07 avg=0.61\n",
            "[330 | 325.84] loss=0.07 avg=0.59\n",
            "[340 | 334.67] loss=0.08 avg=0.57\n",
            "[350 | 343.50] loss=0.05 avg=0.56\n",
            "[360 | 352.32] loss=0.06 avg=0.54\n",
            "[370 | 361.15] loss=0.03 avg=0.52\n",
            "[380 | 369.97] loss=0.03 avg=0.51\n",
            "[390 | 378.80] loss=0.04 avg=0.49\n",
            "[400 | 387.64] loss=0.03 avg=0.48\n",
            "======== SAMPLE 1 ========\n",
            " students can participate in both the civic honors program and the workforce development program. This has the added benefit of allowing organizations to become more involved in the community by creating a consistent set of opportunities for individuals to work in the community. Long-term solutions for both the civic honors and the workforce development programs focus on the individual’s ability to work in the community and the establishment of clear objectives for that labor. The long-term success of either program can focus attention on the community rather than on the individual.\n",
            "\tCompanies can involve individuals in the community by providing a wide variety of opportunities for individuals to participate in the community. The civic honors program can allow organizations to focus on specific tasks and can allow organizations to have a say in how to organize the community. Organizations can acknowledge individual dedication by recognizing it in the report and providing a citation to encourage active participation. Allowing organizations to have a voice in how the community manages its resources and to discuss implementation of those policies with the media provides a valuable opportunity to encourage involvement. Engaging in civic honors programs allows the community to acknowledge those participants and to provide a platform for their feedback. \n",
            "Strong Leadership in the Community\n",
            "The potential exists within every community; it takes strong leadership to unlock that potential.\t \n",
            "     Every organization will have stronger leadership when the issue is transformed from how do we get people involved to how do we get things done. This transformation will introduce new individuals to the organization who have the potential to lead and serve to expand the learning curve on leadership. Each time the organization interacts with the individual, learning occurs. It is significant that learning on the organization level allows the potential for learning from the community level. When the leaders of the community have the individualÙs feedback on how to improve the organization, learning on the organization level provides a valuable opportunity to examine what is possible and to discuss possible improvements with the organization head. When the organizations have the opportunity to let their feedback be heard, it will define the contribution of the organization to the community.\n",
            "\tWhen an organization steps forward, fosters the development of a civic honors program, and extends that program to the community, it creates a strong voice within the community. The organization becomes a  steward of the community spirit and is there to lead within the community. The development of community leaders is essential to the long-term success of any program to develop the community. Being able to develop a rich set of options for participating in the community and for communicating with other organizations and organizations outside the program is fundamental to serving as a model for other organizations. Being able to work with organizations outside of the program and to listen to their feedback is a very important foundation to building a successful program. Looking at leadership within the program and the community is important to understanding how the program will benefit the community. Looking at action within the program is also very important to finding ways to improve the program. Being able to see how programs work and to identify turning points and initiatives will require a certain amount of background in community service. However, with time (especially if the individual stays in the program) the foundation of the civic honors program will benefit the community.\n",
            "\tCommunity service becomes the means to address a problem much broader than just being a part of the community. The result is an individual’s ability to view action as possible within the community and an expectation that the community will come together to address the problems created by individuals in the community. This ability to view action as possible in the greater context will have a profound effect on the individual as a whole. The individual will be able to view action as a vital part of creating a stronger community. Strong leadership is essential to developing a successful program for the community as a whole and to servicing as a steward of the community spirit. Being able to see the forest for the trees and to develop a vision for how to get the community moving in the right direction are what vision is all about. The difference between being positive and being visionary is making a commitment to being positive within the community and having realistic expectations for how far the program will go.\n",
            "Spreading the Definition of Community\n",
            "There is nothing more powerful than being able to spread the message of the community.\t\n",
            "      When people hear the word community it immediately brings up visions of activity and participation. They may think about volunteering within the community or even talking to a relative or friend about going to the community. However, thinking about how to get people involved and to participate in the program or program is the difference between being able to receive and react to support for the civic honors program. Allowing organizations to think about how to get people involved and to analyze the potential benefits of engaging the community has the potential to save time and allow other programs to introduce the concept. If the civic honors program is not developed into a model for implementing that thinking, its potential for saving time and enthusiasm will be lost. A program that uses successes as a stepping-stone to become a national model will be dangerous in the sense that it will become increasingly difficult to develop a\n",
            "\n",
            "[410 | 416.96] loss=0.03 avg=0.47\n",
            "[420 | 425.80] loss=0.04 avg=0.45\n",
            "[430 | 434.63] loss=0.03 avg=0.44\n",
            "[440 | 443.47] loss=0.03 avg=0.43\n",
            "[450 | 452.30] loss=0.06 avg=0.42\n",
            "[460 | 461.13] loss=0.08 avg=0.41\n",
            "[470 | 469.96] loss=0.02 avg=0.40\n",
            "[480 | 478.80] loss=0.03 avg=0.39\n",
            "[490 | 487.63] loss=0.05 avg=0.38\n",
            "[500 | 496.46] loss=0.08 avg=0.37\n",
            "Saving checkpoint/run1/model-500\n",
            "[510 | 512.98] loss=0.07 avg=0.37\n",
            "[520 | 521.81] loss=0.08 avg=0.36\n",
            "[530 | 530.64] loss=0.05 avg=0.35\n",
            "[540 | 539.47] loss=0.06 avg=0.34\n",
            "[550 | 548.30] loss=0.06 avg=0.34\n",
            "[560 | 557.13] loss=0.02 avg=0.33\n",
            "[570 | 565.95] loss=0.10 avg=0.33\n",
            "[580 | 574.78] loss=0.06 avg=0.32\n",
            "[590 | 583.61] loss=0.07 avg=0.31\n",
            "[600 | 592.44] loss=0.04 avg=0.31\n",
            "======== SAMPLE 1 ========\n",
            " origied, or to be sure, to start a civic honors program. The university can expand the number of organizations participating by, among other things, creating databases of qualified organizations. Developing a database that is accurate and complete is critical to success; the database should allow organizations to fill the needs of the organizations with quality information. Of course, the database must allow the university to manage the quality of the information it has available. Without having the initial planning time to think about these difficult issues, the civic honors program could require significant amounts of technical support from the university. A database set up in a way that allows posting from organizations will become self-sustaining. A feature will also need to remove filled positions from the database. This will make it possible to move the majority of maintenance work to the organizations themselves, making the posting service dynamic.\n",
            "     The database is not the only part of the civic honors program that needs careful planning in the beginning. Having a strategy to get the message out about the program to the community is also a very important part of planning for success. Making use of local media and newspapers is essential to spreading the message to the community. However, the message presented to the students of the university is also important. The introduction of the program to the university is a very important part of the civic honors program strategy. Planners may think about the introduction of the program as a one-time event, with the initial goal of getting the message out as quickly as possible. That goal is possible through the media and the university having a voice in the community. Therefore, during the initial introduction of the program to the university, the media room at the university will be full of discussion about the potential of the civic honors program. During the introduction of the program to the media, the media coverage will be critical to the success of the civic honors program. Without being able to get the information needed to inform the media, the civic honors program will not be able to gain traction. Therefore, the media strategy is very important to the success of the civic honors program. Without having the strategic vision to the media, the potential for spreading the message about the civic honors program has been lost.\n",
            "     The civic honors program should not be confused with the civic honors partnership program. The two are not to be confused with one another; the goal of the civic honors program is to work with the community, not to compete with the other programs in the community. The grant program is distinct from the other programs in that it is a partnership between the community and the university, and the university is a natural part of the community. This partnership will develop into a strong network of community supported by a strong university administration. The administration of the grant program should strive to create a strong network of community supported by a strong university administration. The two should work together to develop the civic honors program as a whole. The stronger the network of organizations working together to benefit the community, the more stable the civic honors program will be and the greater the potential benefits to the university.\n",
            "     The need for a strong community platform for the civic honors program exists in a world of its own. The ability to inform the community about the possibility of benefiting the community and to connect with individuals within the community is essential to truly building a grass roots movement for benefit of the community. The higher the level of civic participation in the community, the better off society will be in general. The civic honors program needs to be a step up from the civic honors program, which is focused on benefiting the community. The need for long-term stewardship of the program and the ability to adapt to changes in demand and supply will define the success of the civic honors program.\n",
            "     The model for expansion of the civic honors program is beneficial to the university in that it opens the door for other civic honors programs to take center stage. Such programs will provide the basis for creating a comprehensive model for motivating individuals within the community. The more organizations within the community that know about the program, the greater the potential for expansion.\n",
            "      If the model works, the civic honors program will become a part of the community, not for the better off, but for the betterment of society. That benefit will come from increasing civic participation and motivation and will allow the university to move forward in a progressive way. Organizations within the community can receive special attention because their action is usually voluntary and does not require the approval of a university. This power to move forward in a progressive manner creates the foundation for a powerful network of organizations within the community that can appreciate the positive nature of the message. The larger the network of organizations working together to benefit the community, the healthier the community will be for everyone involved. \n",
            "      Most individuals within the community are not motivated by the same ideals as the university. The university has the natural position to step forward and be a voice for the community in its daily needs and to offer practical suggestions for moving forward. The question is whether or not\n",
            "\n",
            "[610 | 622.10] loss=0.06 avg=0.30\n",
            "[620 | 630.95] loss=0.03 avg=0.30\n",
            "[630 | 639.78] loss=0.06 avg=0.29\n",
            "[640 | 648.61] loss=0.05 avg=0.29\n",
            "[650 | 657.44] loss=0.03 avg=0.28\n",
            "[660 | 666.27] loss=0.09 avg=0.28\n",
            "[670 | 675.11] loss=0.06 avg=0.27\n",
            "[680 | 683.94] loss=0.04 avg=0.27\n",
            "[690 | 692.77] loss=0.05 avg=0.26\n",
            "[700 | 701.61] loss=0.04 avg=0.26\n",
            "[710 | 710.44] loss=0.04 avg=0.25\n",
            "[720 | 719.27] loss=0.02 avg=0.25\n",
            "[730 | 728.10] loss=0.02 avg=0.25\n",
            "[740 | 736.94] loss=0.03 avg=0.24\n",
            "[750 | 745.77] loss=0.01 avg=0.24\n",
            "[760 | 754.60] loss=0.03 avg=0.23\n",
            "[770 | 763.43] loss=0.07 avg=0.23\n",
            "[780 | 772.26] loss=0.06 avg=0.23\n",
            "[790 | 781.10] loss=0.05 avg=0.22\n",
            "[800 | 789.94] loss=0.02 avg=0.22\n",
            "======== SAMPLE 1 ========\n",
            " that is necessary to be able to identify large numbers of individuals who already believe in the ideals of strengthening the community and will be motivated to become advocates of the civic honors message. It is important to identify individuals who are motivated and willing to work in a manner consistent with the message. The individuals involved in implementing the program and technology have to be motivated and driven.\n",
            "      Building a database that is efficient in delivering the desired information as well as effective in allowing communication is critical to success. Having a database that can be mobile and spread to other universities will help enable a prototype for others to follow. The database must allow students to find opportunities within the community in which to volunteer and must allow the organizations listing those opportunities to update their information. Developing tools to help organizations to update their information quickly and efficiently is integral in the development of a successful civic honors program. Centralizing accurate information is a distinct part of setting up a system with a seamless exchange of information. The need for the transfer of information between organizations and individuals is an important dynamic. Program planners should design an administrative system for the civic honors program that allows complex interactions between individuals and organizations with the smallest amount of resistance from red tape as well (Simon, 1947).  \n",
            "      Designing a successful database will dictate the number of people needed to manage the program implementation and monitor the database. If the database is interactive with both the individual and the organization, constant updating by the university will be unnecessary. Designing the database to work with the internal university civic honors program will make the system easier to operate, track, and maintain. Of course, the database will need monitoring by an administrator to make sure that the organizations are keeping their information up to date and that the requests for volunteers are legitimate. These kinds of questions are what make thinking about the design of the database so important to the success of any civic honors program. Without having the preliminary planning time to think about these difficult issues, the program could require significant amounts of technical support from the university. A database set up in a way that allows posting from organizations will become self-sustaining. A feature will also need to remove filled positions from the database. This will make it possible to move the majority of maintenance work to the organizations themselves, making the posting service dynamic.\n",
            "      The database is not the only part of the civic honors program that needs careful planning in the beginning. Having a strategy to get the message out about the program to the community is also a very important part of design and implementation. Making use of local media and newspapers is essential to spreading the message to the community. However, the message presented to the students of the university is also important. The introduction of the program to the university is a very important part of the implementation strategy. Planners may think about the implementation in terms of developing an initial beta test of the database with only part of the university, with a strategy to expand the program as it builds momentum.\n",
            "      The need for expandability of the civic honors program also requires thinking about the scalability of the program design. The posting system should be Web based, which would require bandwidth and a computer running the database. This is where the experience of the university’s technology department becomes an exceptional resource. Since most of the background information and personnel already exist within the structure of the university, the design and implementation can ensure the success of the civic honors program. The management of this process will require leadership and vision from the university team that develops the model but will become easier as the network of university civic honors programs develops. It is also important to think about the individuals who will be developing and representing that network. The individuals involved in the street-level administration of the program will administer the program daily and thus will define how the program really works (Lipsky, 1980).\n",
            "      Developing a system for students to accept volunteering opportunities that is traceable is essential to providing the quantitative evidence to support civic involvement benefits. Moreover, it is an essential part of a successful strategy for developing a civic honors program. Allowing the university to see the actual counts of participants in real time allows analysis and reporting of the development of the program that will benefit students and community. Such ongoing analysis will help identify areas that need the most work and help identify strengths within the program. Long-term trends in the community also can be analyzed. The power of having accurate information about the development of the program allows the university to guide its own direction and to understand what is necessary to measure changes in the community. \n",
            "      Having the perspective to develop the system so that it requires almost no staff and maintenance to keep costs under control is essential to making the program as beneficial to the university as possible. Thinking about how to control costs and information during the development and implementation of the program will pay dividends. If the civic honors program becomes a substantial drain on time and technology from the university, the initial design did not maximize efficiency and economy. One of the most efficient\n",
            "\n",
            "[810 | 819.45] loss=0.09 avg=0.22\n",
            "[820 | 828.29] loss=0.05 avg=0.21\n",
            "[830 | 837.12] loss=0.04 avg=0.21\n",
            "[840 | 845.95] loss=0.02 avg=0.21\n",
            "[850 | 854.78] loss=0.06 avg=0.21\n",
            "[860 | 863.61] loss=0.03 avg=0.20\n",
            "[870 | 872.44] loss=0.03 avg=0.20\n",
            "[880 | 881.27] loss=0.05 avg=0.20\n",
            "[890 | 890.10] loss=0.03 avg=0.19\n",
            "[900 | 898.93] loss=0.06 avg=0.19\n",
            "[910 | 907.75] loss=0.07 avg=0.19\n",
            "[920 | 916.58] loss=0.03 avg=0.19\n",
            "[930 | 925.41] loss=0.04 avg=0.18\n",
            "[940 | 934.26] loss=0.03 avg=0.18\n",
            "[950 | 943.10] loss=0.03 avg=0.18\n",
            "[960 | 951.92] loss=0.03 avg=0.18\n",
            "[970 | 960.76] loss=0.03 avg=0.18\n",
            "[980 | 969.59] loss=0.04 avg=0.17\n",
            "[990 | 978.42] loss=0.05 avg=0.17\n",
            "[1000 | 987.25] loss=0.04 avg=0.17\n",
            "Saving checkpoint/run1/model-1000\n",
            "WARNING:tensorflow:From /tensorflow-1.15.2/python3.6/tensorflow_core/python/training/saver.py:963: remove_checkpoint (from tensorflow.python.training.checkpoint_management) is deprecated and will be removed in a future version.\n",
            "Instructions for updating:\n",
            "Use standard file APIs to delete files with this prefix.\n",
            "======== SAMPLE 1 ========\n",
            " maintenance will require leadership within the university. The university must identify key groups of organizations within specific categories. Allowing organizations within those categories to spread the word about the civic honors program will ensure its success. Using existing networks within the community to expand the civic honors program is a definite goal to enhance success. Existing networks will allow organizations to work with each other and to discuss being a part of the civic honors network. The civic honors program cannot remain static; things will change, and policies and administrations will shift. However, with a good strategy for expansion, change will be positive (Bozeman & Straussman, 1990).\n",
            "Civic Honors: Long-Term Maintenance\n",
            "Stewardship is not just a function of leadership; it is a necessary part of building a civic honors program that will benefit the community.\n",
            "        The maintenance of the program will require a significant amount of planning when the program is started. The stewardship of the program will require that the university be an advocate for the spread of the civic honors model. Therefore, the university must develop a model in a clear and concise fashion. This is where the long-term stewardship of initial civic honors programs will help the development of other civic honors programs. Once the groundwork has been established, expansion of the program into a national network of community action will become increasingly easy.  \n",
            "       Defining the message in ways the media can report is very important to selling the message. Managing public promotion of the program is essential to the program’s political survival and growth (Rourke, 1984). From time to time material needs to be made available to the media that can be condensed to a sound bite or a series of statistics that can sell the message. Using public statements to deliver the civic honors message will help shape the community’s perception of the civic honors program (Blumethal, 1979). The university has to become an advocate of the civic honors program in the community. Organizations need the ability to think in terms of creating a comprehensive strategy for getting the message out in the long term. This means developing a strategy where accomplishments of the program are communicated to the media and thinking of ways to manage the image of the program at the community level. If the program is not continually part of public discussion, it could lose momentum, and involvement will suffer. Thus, the media strategy is very important to the success of the civic honors program over time. Public information regarding the program must resonate with the participants of the program. \n",
            "       Having the long-term perspective that measurable statistics will be important to the long-term success of the program is lacking in today’s programming at most colleges. Statistics will become very necessary in evaluating the success of the civic honors program within both the university and the community. Some kind of process has to keep statistics up to date; a committee could identify the long-term trends in organizational posting and in volunteering. This is essential to measuring the development of the program. Evaluation also will require a critical discussion of the implementation strategy as a whole. Feedback will enable the civic honors program to correct for changes in the environment of the community and also to identify parts of the program that are not working correctly (Katz & Kahn, 1966). Identifying trends and ideas that will benefit the civic honors program will develop a better civic honors program. Individuals also will feel that their message is being heard. To prevent individual disenfranchisement when people have comments and suggestions about the potential of the civic honors program, it is important to provide a platform where their comments are part of the discussion.  \n",
            "       Identifying the need for stewardship of the civic honors program by the university will define the context of the civic honors program discussion. It will show other universities that the civic honors program can work and that the discussion is not just for show. This will dispel the misconception that the civic honors program is limited to helping individuals and organizations. Organizations will become advocates of the civic honors program because it is working to expand the ability to help the community. Looking at the positive side of the civic honors program is important to understanding what is possible. The discussion should involve thinking about the potential of the civic honors program to be a tool for bringing together individuals and organizations. Allowing the participants to provide the evaluation of the program will broaden the message and help develop a better program overall. \n",
            "       Identifying the need for stewardship of the civic honors program by the university will allow the program to expand and develop beyond the university. Being able to identify the needs of the community and to serve as an information exchange for students and others will be the foundation of any successful civic honors program. The university has to become an advocate of the civic honors program not only because it is necessary but also because it is the only program that really works. Focusing on the implementation of the civic honors program will broaden the desire to implement the civic honors program and will allow the potential for collaboration between individuals and\n",
            "\n",
            "[1010 | 1023.18] loss=0.04 avg=0.17\n",
            "[1020 | 1032.01] loss=0.04 avg=0.16\n",
            "[1030 | 1040.84] loss=0.02 avg=0.16\n",
            "[1040 | 1049.67] loss=0.06 avg=0.16\n",
            "[1050 | 1058.50] loss=0.03 avg=0.16\n",
            "[1060 | 1067.33] loss=0.02 avg=0.16\n",
            "[1070 | 1076.16] loss=0.02 avg=0.15\n",
            "[1080 | 1084.99] loss=0.02 avg=0.15\n",
            "[1090 | 1093.82] loss=0.03 avg=0.15\n",
            "[1100 | 1102.64] loss=0.05 avg=0.15\n",
            "[1110 | 1111.47] loss=0.05 avg=0.15\n",
            "[1120 | 1120.30] loss=0.07 avg=0.15\n",
            "[1130 | 1129.14] loss=0.07 avg=0.15\n",
            "[1140 | 1137.99] loss=0.05 avg=0.14\n",
            "[1150 | 1146.82] loss=0.06 avg=0.14\n",
            "[1160 | 1155.64] loss=0.02 avg=0.14\n",
            "[1170 | 1164.48] loss=0.04 avg=0.14\n",
            "[1180 | 1173.31] loss=0.04 avg=0.14\n",
            "[1190 | 1182.15] loss=0.03 avg=0.14\n",
            "[1200 | 1190.98] loss=0.02 avg=0.14\n",
            "======== SAMPLE 1 ========\n",
            "        Selling the first partners will be the biggest hurdle. Once it is apparent that the program is successful, collaboration should become easier every time an organization becomes involved. The momentum should build as organizations start realizing that the civic honors program is not just a way to get people involved, but a part of being part of the community. \n",
            "      It is critical to set up a smooth transition for those organizations that have contracts with the community with respect to the civic honors program. That transition should allow them to move from being a tool to being a part of the community. The assumption behind striving to reduce costs and simplify the process is that, if the cost is not significant, the benefits will not have the same advantage. The same values and ethics behind the civic honors program should provide a stable long-term benefit to the community from the synergy of connections and networking that the civic honors program can generate. \n",
            "      The charge specifically is to foster the development of partnerships between individuals and the community. To that end, the university must reward those organizations that continue to implement the civic honors program with recognition. Removing the miscommunication between organizations and individuals also enables the university to reward those organizations with recognition on par with that organization’s rank for demonstrating leadership. If that leadership is not developed and sustained, the university will miss the opportunities that are within the community created by strong leadership. Graduation with civic honors is a way to reward those individuals who have the strength to become active participants within the community and to acknowledge the effect of fostering strong community leadership from the community.\n",
            "      The civic honors program is free to outside organizations, K–12 schools, and colleges and universities in general. No organization in the community is likely to turn down the opportunity to utilize this resource. For organizations interested in utilizing this resource, the charge specifically is to foster the development of partnerships between those organizations and the community. The development of partnerships between individuals and the community is necessary for the civic honors program to be successful. The assumption behind looking at partnerships is that the less work that needs to be done, the sooner the program can start and the better off society will be. \n",
            "      The charge specifically is to foster the development of partnerships between individuals and the community. To that end, the university must reward those individuals who have become active participants in the civic honors program with recognition. It is important to reward those individuals who have developed a strong commitment to the community with the recognition of civic participation. This is accomplished first and foremost by allowing them to spread that ethic of volunteerism and civic participation to the community. Allowing organizations to reward those individuals who have become active participants in the civic honors program with civic honors also allows the program to expand. The hope is that this dynamic will drive the organizational renewal of the civic honors program. Once the program has expanded beyond the institution with the exception of a few locations, responsibility for overseeing the program and managing its implementation will fall to the university. The charge specifically is to foster the development of community by making it easier for individuals to participate within the community, while providing a clear path to strengthen the community from the positive ideas that motivate each participant. \n",
            "      The charge specifically is to foster the development of community by making it easier for individuals to participate within the community, while creating a visible recognition of the impact of the civic honors program on the community. Designing the program to be able to expand and work with other organizations is essential to the long-term acceptance of the civic honors program within the community. \n",
            "\tDesigning a program that is nonpolitical on the basis that benefiting the community is the primary motivation for participating in the program is nonpolitical. This requires thinking not just about the motivations of individuals and organizations, but also about the long-term benefits of the civic honors program. The basis for long-term nonpolitical motivation of individuals and organizations is their ability to gain acceptance within the community. If that ability for participation and growth is not being given away in other forms of media and communication, the result could be a loss of motivation for participation. \n",
            "\tLong-term solutions for disseminating a positive message within the community require thinking not just about the individual, but also about the long-term benefits of the message. If the message is not positive enough, it will lose out on potential audiences. Looking at solutions for spreading the message between people is the critical first step to creating a positive message. If the civic honors program can work to develop the pool of individuals willing to participate and to expand the message of the program, the system will be successful. The question is whether an organization willing to play a larger role in spreading the positive message of the civic honors program will be willing to commit resources to the program. If the civic honors program is not a source of revenue for the community, the question becomes whether an institution willing to participate in this program has the moral authority to say so. The university must take a step back and focus on\n",
            "\n",
            "[1210 | 1220.62] loss=0.08 avg=0.13\n",
            "[1220 | 1229.46] loss=0.03 avg=0.13\n",
            "[1230 | 1238.29] loss=0.03 avg=0.13\n",
            "[1240 | 1247.13] loss=0.03 avg=0.13\n",
            "[1250 | 1255.96] loss=0.01 avg=0.13\n",
            "[1260 | 1264.78] loss=0.02 avg=0.13\n",
            "[1270 | 1273.62] loss=0.01 avg=0.13\n",
            "[1280 | 1282.44] loss=0.05 avg=0.12\n",
            "[1290 | 1291.28] loss=0.05 avg=0.12\n",
            "[1300 | 1300.10] loss=0.08 avg=0.12\n",
            "[1310 | 1308.94] loss=0.04 avg=0.12\n",
            "[1320 | 1317.77] loss=0.02 avg=0.12\n",
            "[1330 | 1326.59] loss=0.02 avg=0.12\n",
            "[1340 | 1335.42] loss=0.06 avg=0.12\n",
            "[1350 | 1344.25] loss=0.04 avg=0.12\n",
            "[1360 | 1353.08] loss=0.09 avg=0.12\n",
            "[1370 | 1361.92] loss=0.03 avg=0.12\n",
            "[1380 | 1370.74] loss=0.04 avg=0.11\n",
            "[1390 | 1379.57] loss=0.03 avg=0.11\n",
            "[1400 | 1388.39] loss=0.02 avg=0.11\n",
            "======== SAMPLE 1 ========\n",
            " personnel. Not all organizations will have the personnel to perform background checks on all individuals applying for volunteer opportunities. Therefore, the university will have to become an advocate for the volunteer opportunity through development of a civic honors program. Based on this ethic, the university will benefit society as a whole by allowing individuals who are interested and motivated to work to fulfill their civic honors responsibilities. \n",
            "\tThe idea of focusing on the individual within the community is important to understanding how the civic honors program will benefit society as a whole. If the community does not focus on the ideas of expanding the number of individuals who are willing to participate each time the organization changes locations, the revival of civic participation will be limited. If the community does not adapt to the speed of technology, the revival of civic participation may falter. If the community does not adapt to change at the speed of technology, the revival of civic participation may falter as well. That is a dangerous trajectory for the community because it limits the amount of options for developing a civic honors program that will benefit society as a whole. Having the vision to see that change is possible and to work to develop the capacity for change is necessary for the success of any program to benefit society. The ability to see change as inevitable and to work to develop the capacity for change is the foundation of strengthening the community. \n",
            "\tThe ability of leaders to focus on what is occurring within society will add a level of perspective to facilitate long-term planning and development of programs. When the community is strong, the job of a successful leader becomes one of sustaining that strength and translating it to ways to benefit society. \n",
            "The Advantage of Having Long-Term Vision\n",
            "Being able to see what is possible within the community and having the courage to move in that direction are what vision is all about.\t\n",
            "     Sometimes it is necessary to be able to see what will happen in the long term or at least to plan for possible outcomes. This type of perspective is necessary to see what could happen with programs like civic honors and other community organizations that have the ability to influence the future of the community. Overall, it is important think about the development of community through the participation of the individuals within the community. Thinking of ways to engage the individual and to help organize the organizations is the foundation of strengthening the community. This engagement and organization presents several advantages for the community by allowing infrastructure to keep up with demand and also by facilitating the flow of capital. \n",
            "\tKeeping track of what going on is as important as what is going on within the community. Tracking is critical to success; lacking the presence of mind to evaluate what is happening can result in missing some opportunities. The community has to be vigilant at identifying opportunities as well as at looking at current challenges. The challenges of the future will be difficult to address if there is no system to evaluate each developing challenge, much less to anticipate and be proactive about such challenges. One of the great values added to the community is the ability to shift resources from problems that have resolution to problems that are developing or need to be addressed.  \n",
            "Spreading the Ethic of Volunteerism\n",
            "It is one thing to benefit the community. However, to benefit individuals with a lifelong gift of volunteering is priceless.\t\n",
            "     The power of any civic honors program is to mobilize the individual to participate within the community. One of the goals of the civic honors program is to spread the ethic of volunteerism to the individual for life. Being able to get college-age students to participate in community and to develop the ethic of volunteerism early in life sustains growth in the community. A sustainable strategy for developing an ethic of volunteerism can be a cornerstone of successful maintenance. Being able to maintain a strong civic honors program is the foundation of building a strong community; in a sense the two are strongly related. Pursuing the building blocks of a strong community is a solid strategy for sustaining not only community development, but also an ethic of volunteerism. \n",
            "\tBeing able to sustain an ethic of volunteerism within the community is a key factor in the success of any community program. Sustaining that ethic requires a lot of planning and long-term vision. Identifying issues that could cause individual disenfranchisement can help reduce the possibility that individuals willing to participate lose hope. It also helps ensure that those individuals who have developed a strong ethic of volunteerism will not lose hope. Focusing on possibilities for expanding volunteerism includes spreading a positive message about what is possible within the community. Providing a vision of what is possible is a way to unify individuals who care about the community with one powerful message. Unifying the community with a strong consistent message will foster an ethic of volunteerism. The individual with that ethic wants to believe that the system is working and beneficial.  \n",
            "\tLong-term solutions for disseminating a positive message within the community require planning and the stewardship of strong community leaders in partnership. Without stewardship of the message within the community, the message may get lost. In this ever-changing world of\n",
            "\n",
            "[1410 | 1417.94] loss=0.02 avg=0.11\n",
            "[1420 | 1426.77] loss=0.06 avg=0.11\n",
            "[1430 | 1435.60] loss=0.03 avg=0.11\n",
            "[1440 | 1444.46] loss=0.02 avg=0.11\n",
            "[1450 | 1453.29] loss=0.05 avg=0.11\n",
            "[1460 | 1462.12] loss=0.04 avg=0.11\n",
            "[1470 | 1470.96] loss=0.05 avg=0.11\n",
            "[1480 | 1479.79] loss=0.03 avg=0.10\n",
            "[1490 | 1488.62] loss=0.08 avg=0.10\n",
            "[1500 | 1497.45] loss=0.03 avg=0.10\n",
            "Saving checkpoint/run1/model-1500\n",
            "[1510 | 1512.69] loss=0.02 avg=0.10\n",
            "[1520 | 1521.51] loss=0.03 avg=0.10\n",
            "[1530 | 1530.34] loss=0.03 avg=0.10\n",
            "[1540 | 1539.16] loss=0.02 avg=0.10\n",
            "[1550 | 1548.01] loss=0.02 avg=0.10\n",
            "[1560 | 1556.83] loss=0.03 avg=0.10\n",
            "[1570 | 1565.66] loss=0.05 avg=0.10\n",
            "[1580 | 1574.49] loss=0.04 avg=0.10\n",
            "[1590 | 1583.31] loss=0.02 avg=0.10\n",
            "[1600 | 1592.14] loss=0.06 avg=0.09\n",
            "======== SAMPLE 1 ========\n",
            ". \n",
            "      It is important to understand that if the program is not changing organizational attitudes about the possibilities within the community, an opportunity to strengthen the community as a whole has been lost. The civic honors program provides a platform for a message about the possibilities of community. The individual with the microphone and the momentum of individual action can deliver the message of the civic honors program. The potential to engage organizations increases as the message develops. The earliest signs of the civic honors program can be seen in the community. The level of participation from individuals and organizations will determine the success of the civic honors program. Individuals’ thinking about ways the program could strengthen the community and actively discussing the issue allow for a tremendous amount of individual ownership. The individual is empowered by the belief that they are not only willing but also able to modify their own ideas to fit the needs of the community. \n",
            "\tThis connection between individuals and organizations is a valuable tool to address and understand problems. The university can receive and react to feedback about the civic honors program. The university can also receive and react to feedback about the level of participation within the community. To achieve a significant level of Web-based communication, individuals have to be exposed to the same information on demand. \n",
            "\tIndividuals’ having the power to express themselves about problems within the community is a valuable resource to address and understand problems. The university can receive and react to feedback about the level of participation within the community. In the beginning, it will take careful planning for the university to be able to integrate new technologies. Now is the time to move forward, learn from leaders within the community, and create community leaders. \n",
            "\tThe power of the civic honors program extends beyond just addressing and resolving community-oriented problems; it allows individuals to be active participants within the community. \n",
            "\tBeing an active participant within the community requires a certain level of stewardship. Understanding what is possible requires being able to see the new levels of potential. A graduation with civic honors program endeavors to unlock a world of potential that transcends the walls of the university and strengthens the social fabric of the community. \n",
            "\tGraduation with civic honors provides a platform for a message about the opportunities to work with the community. The first step is speaking to individuals, organizations, and universities that have the potential to develop vibrant graduation with civic honors programs. The message is about what is possible within the community and how to use technology to bring people together. A graduation with civic honors program strives to create a positive message about the potential of community.\n",
            "\tGraduation with civic honors provides a platform for a progressive agenda within the community. The first step is speaking to individuals, organizations, and universities that have the potential to develop vibrant graduation with civic honors programs. The message is about what is possible and how to use technology to bring people together. A graduation with civic honors program strives to create a positive message about the potential of community.\n",
            "\tGraduation with civic honors provides a platform for a progressive agenda within the community. The first step is speaking to individuals, organizations, and universities that have the potential to develop vibrant graduation with civic honors programs. The message is about what is possible and how to use technology to bring people together. A graduation with civic honors program understands that academics and the community go hand in hand. They strive to create a program that benefits society and the students of the community. \n",
            "\tGraduation with civic honors provides a platform for a progressive agenda within the community. The first step is speaking to individuals, organizations, and universities that have the potential to develop vibrant graduation with civic honors programs. The message is about what is possible and how to use technology to bring people together. A graduation with civic honors program understands that academics and the community have to be kept separate in the future. Technology has to be allowed to expand within the community and to be developed into a specific program to benefit the community. \n",
            "\tGraduation with civic honors provides an accurate measure of the participation within the community. Being able to measure the rate of participation and to chart the increases in participation helps manage the level of participation. Evaluating the level of active participation helps the community address concerns about the level of participation. Over the long run, if participation decreases, the community can use tracking data to identify which universities need the most help and to issue a call for specific assistance. Being able to see the trends of active participants will require understanding what organizations are doing to empower the individual and will allow other programs to look at success as a model.\n",
            "\tGraduation with civic honors provides an accurate measure of the participation within the community. Being able to analyze the data and to identify trends within the community will require understanding what organizations do for the community. It will allow organizations to look at individual civic attitudes and perceptions and to understand how that varies by community. It will allow organizations to view individual civic attitudes and perceptions as indicators of potential. Looking at trends on the individual level will be necessary to develop a big-picture evaluation of what is possible within the community.\n",
            "\tBeing\n",
            "\n",
            "[1610 | 1621.70] loss=0.03 avg=0.09\n",
            "[1620 | 1630.54] loss=0.06 avg=0.09\n",
            "[1630 | 1639.37] loss=0.02 avg=0.09\n",
            "[1640 | 1648.20] loss=0.05 avg=0.09\n",
            "[1650 | 1657.03] loss=0.03 avg=0.09\n",
            "[1660 | 1665.86] loss=0.02 avg=0.09\n",
            "[1670 | 1674.69] loss=0.04 avg=0.09\n",
            "[1680 | 1683.51] loss=0.02 avg=0.09\n",
            "[1690 | 1692.34] loss=0.03 avg=0.09\n",
            "[1700 | 1701.17] loss=0.03 avg=0.09\n",
            "[1710 | 1710.00] loss=0.05 avg=0.09\n",
            "[1720 | 1718.83] loss=0.06 avg=0.09\n",
            "[1730 | 1727.66] loss=0.03 avg=0.09\n",
            "[1740 | 1736.48] loss=0.04 avg=0.09\n",
            "[1750 | 1745.31] loss=0.05 avg=0.08\n",
            "[1760 | 1754.17] loss=0.06 avg=0.08\n",
            "[1770 | 1763.01] loss=0.07 avg=0.08\n",
            "[1780 | 1771.84] loss=0.05 avg=0.08\n",
            "[1790 | 1780.66] loss=0.05 avg=0.08\n",
            "[1800 | 1789.49] loss=0.06 avg=0.08\n",
            "======== SAMPLE 1 ========\n",
            " participate and that participation can be voluntary or involuntarily (Thompson, 1967). Connecting individuals with a common goal and giving them a voice to express feeling and ideas about achieving that goal provide valuable focus on the goal. \n",
            "\tThe message of the civic honors program can spread through anyone at any time. It is important to keep a close eye on developments within the community to be aware of changes in the natural environment of the civic honors program communities. If communities that have developed a strong civic honors program lose momentum, the initial benefits from the introduction of the program will not have the same advantage through the community. The same ideas behind the civic honors program as they did before it was introduced will pay dividends to the community as a whole. Being able to view those long-term trends on a nationally basis is very important to understanding changes in the natural environment of the community. \n",
            "\tThe foundation of the civic honors program is a message worth repeating, that advocating the creation of a civic honors program is beneficial to society. The message is that the civic honors program can enable the community to strengthen its structure and to make some investments in the process of building a stronger community. Allowing individuals who are interested and motivated to work to achieve something in the community is a positive step in the right direction. Reciprocally, the stronger the network of universities across the nation, the more stable the civic honors program will be and the greater the potential benefits to the community. This has the added benefit of allowing universities a safe haven during difficult times. If they are not prepared to step forward and become a natural ally of the community during times of need, they will miss the opportunity to make a difference.\n",
            "Building for the Future\n",
            "The future is limitless, and the potential that exists within the community is real and needs to be utilized and utilized quickly. \n",
            "      One of the best ways to utilize that potential is to collaborate to facilitate change. The more thought and work put into the future of the civic honors program, the greater its potential. If universities can build a successful civic honors network, the future for expansion and collaboration will be almost self-sustaining. \n",
            "\tIf individuals and organizations within the community are not contributing to the graduation with civic honors program, the potential for spreading the message of the civic honors program is lost. The potential for working within the community is endless. With individuals and organizations as advocates for strengthening the community, it is only a matter of time before the community benefits. Having a firm belief that the community has the potential for future benefit is the basis for designing a focused strategy. If an organization becomes a long-term advocate for the civic honors program, it has the potential to become a national model. That would spread a message of community accomplishment and potential. \n",
            "\tThe civic honors program is not about finding quick fixes for problems within the community. Rather, the program facilitates collaboration on a broad basis, helping to define the potential of cooperation. The result is an individual’s feeling a sense of community by being empowered to view action as possible in the greater context. Individuals can more critically think about the benefits of a civic honors program and the opportunities that can provide for social change. Social change is not only necessary, it is a necessary element of constructing a stronger community. Building a stronger society through the civic honors program is an avenue toward promoting social change. Civic society does not require a pure liberal democracy. It is possible to develop programs to develop and strengthen civic society regardless of political climate (Kaviraj & Khilnani, 2001). Thus, a civic honors program can be developed, regardless of boundaries and borders. The message is about the potential for social capital formation within the community and the need for leaders within the community to step forward and assume the role of civic leader. Social capital is not just a byproduct of good governance; it is the essential building block of strengthening the community. Weakness in the community occurs when a vacuum exists between the individual and the organization to fill the needs of the community. When a leader does not step forward to fill this role, social capital suffers. And, as we have seen from the civic honors program, a strong leader can bring social capital to the forefront of the community agenda.  \n",
            "\tThe idea of civic society as it relates to the individual is important to understanding the message of the civic honors program. The civic honors program opens the door to a world of community action that was harder to find before this revolutionary technology. Transportation networks, communications, and technologies have the potential to speed up progress along the learning curve for the community and their citizens. Graduation with civic honors facilitates communication within the community and allows students to develop a strong sense of community while they are in high school. Empowering students to take ownership of the message of the civic honors program and become advocates for participation within the community is a benefit, which is compounded by utilizing the resource consolidation the civic honors program provides. Focusing on the ways individuals can contribute to the community without having to commit their time or energy\n",
            "\n",
            "[1810 | 1818.84] loss=0.03 avg=0.08\n",
            "[1820 | 1827.66] loss=0.05 avg=0.08\n",
            "[1830 | 1836.49] loss=0.03 avg=0.08\n",
            "[1840 | 1845.32] loss=0.04 avg=0.08\n",
            "[1850 | 1854.17] loss=0.02 avg=0.08\n",
            "[1860 | 1862.99] loss=0.01 avg=0.08\n",
            "[1870 | 1871.82] loss=0.06 avg=0.08\n",
            "[1880 | 1880.65] loss=0.05 avg=0.08\n",
            "[1890 | 1889.47] loss=0.03 avg=0.08\n",
            "[1900 | 1898.30] loss=0.02 avg=0.08\n",
            "[1910 | 1907.13] loss=0.06 avg=0.08\n",
            "[1920 | 1915.96] loss=0.02 avg=0.08\n",
            "[1930 | 1924.80] loss=0.01 avg=0.08\n",
            "[1940 | 1933.62] loss=0.03 avg=0.08\n",
            "[1950 | 1942.47] loss=0.01 avg=0.07\n",
            "[1960 | 1951.30] loss=0.04 avg=0.07\n",
            "[1970 | 1960.13] loss=0.02 avg=0.07\n",
            "[1980 | 1968.95] loss=0.01 avg=0.07\n",
            "[1990 | 1977.78] loss=0.04 avg=0.07\n",
            "[2000 | 1986.61] loss=0.05 avg=0.07\n",
            "Saving checkpoint/run1/model-2000\n"
          ],
          "name": "stdout"
        }
      ]
    },
    {
      "cell_type": "markdown",
      "metadata": {
        "id": "DcPgaPmDjWxe",
        "colab_type": "text"
      },
      "source": [
        "# Let's make some outputs"
      ]
    },
    {
      "cell_type": "markdown",
      "metadata": {
        "id": "sPccwlUYzMvp",
        "colab_type": "text"
      },
      "source": [
        "This prompt will generate text from the trained model"
      ]
    },
    {
      "cell_type": "code",
      "metadata": {
        "id": "si4k2vU7wTi5",
        "colab_type": "code",
        "outputId": "ddfcebad-8e22-4537-f360-ebfea1a6fdab",
        "colab": {
          "base_uri": "https://localhost:8080/",
          "height": 222
        }
      },
      "source": [
        "gpt2.generate(sess, run_name='run1')"
      ],
      "execution_count": 10,
      "outputs": [
        {
          "output_type": "stream",
          "text": [
            "Community leaders must adopt the perspective to take a step back and acknowledge that they may not have a comprehensive understanding of emerging technology. It could be beneficial to utilize resources within the community to expand the ability to use technology to benefit community. This perspective will define communities that are able to move forward in a progressive way and will cast a shadow on those communities that do not utilize the capacity to connect people. Every community needs to focus on bringing together individuals; without that level of focus, accomplishing anything meaningful within the community will be impossible.\n",
            "\t The assumption when thinking about what is possible in terms of technology is that utilizing technology can benefit the community. The assumption is that anything that can help bring together individuals is going to be beneficial to society as a whole. Relevant to the overall message of the civic honors program is the idea that developing technology makes it easier to get individuals to work together. Decreasing separation at all times is important to the community, because it means that the assumptions behind the action involve believing in the future. This is important to assist the community in integrating new technology. That integration of technology will help develop a clear path for the future; it will allow the community to build momentum at the speed of technology. Thinking in terms of the future as bringing success is always going to be a positive message.\n",
            "\tWhen thinking about technology it is important to think in terms of solutions to real problems. It is possible to brainstorm a list of problems and then to determine how to apply technology to the solution. When technology applies within the problem solution framework, the power of change can be unlocked. It is important to look at every possible scenario and to think about what is possible; understanding the potential and the limitations will allow problem identification. Looking at solutions is the beginning of understanding the problems in their entirety. \n",
            "      The idea of using advancements in technology to help guide the community’s strategy for dealing with problems is not new. Focusing on the upper bound of what is possible for the community raises the bar for expectations for achievement. It also allows individuals in the community to see a vision of the future and what can be achieved if individuals work together to accomplish something. \n",
            "\tIt is important to understand that if the community does not rally around technology and make it a cornerstone of community development, the revival of civic participation may falter. If leaders do not take control of emerging technologies, they will lose the potential to introduce them into the mainstream message of community. If only small groups and some organizations use technology, it will lose the potential for mass mobilization, and using technology in the community is really about being able to connect a large number of individuals together efficiently and effectively. \n",
            "Knowing What is Possible\n",
            "Really focusing on the frontier of new technology will give a competitive edge to the community. \n",
            "      It is important for leaders in the community to understand not only the theory behind developing community, but also the tools that help develop community. Those tools can be modern advances in technology like those that drive the civic honors program or can be as simple as developing a platform of communication between people. The power of mailing lists and communicating through technology alleviates the cost of expensive mailing campaigns. Simple changes in adapting to the abilities of technology can have huge dividends in cost savings and in the speed of information communication.  \n",
            "\tThinking about what it takes to develop a strong community is a distinct part of understanding what is possible. Many technologies have the potential to speed up progress in the community. This includes developments in technology like those that drive the civic honors program or can be as simple as developing a platform of communication between people. The point is not to focus on the individual who has the potential to develop a strong community, but to understand what is possible within the community. \n",
            "\tTo develop a strong civic honors program, the university has to be an advocate for that message. Having a university that advocates the development of a strong community is a necessary element of delivering a strong civic honors program with the vision required to spread the message. Having the vision necessary to look at possibilities and to identify developing issues and trends requires a lot of perceptive skill. The perspective develops from looking at the community and understanding the basic motivations of individuals and organizations involved and from finding ways to leverage those motivations to bring together individuals to overcome problems within the community. Now is the time to think about what is possible and how to use technology to bring people together. \n",
            "\tThe potential for bringing together individuals comes from the positive nature of the message of the civic honors program. The message is definitely working on the premise that a strong community will benefit society as a whole. If the message is positive and about the benefits of a strong community, the potential is limitless for expansion. Communication is the key to spreading the message and to increasing active participation in the civic honors program. Being able to expand the message of the civic honors program to any community is part of a positive message geared at benefiting the community. Civic society does not require a pure liberal democracy. It is possible to develop\n"
          ],
          "name": "stdout"
        }
      ]
    },
    {
      "cell_type": "markdown",
      "metadata": {
        "id": "V6YAVDBM1zQj",
        "colab_type": "text"
      },
      "source": [
        "You can change the prefix text, but it spews nonsense so far..."
      ]
    },
    {
      "cell_type": "code",
      "metadata": {
        "id": "Le6wo9vY-xuO",
        "colab_type": "code",
        "outputId": "55d0e2fb-6f53-45b3-9643-704d6d229e33",
        "colab": {
          "base_uri": "https://localhost:8080/",
          "height": 238
        }
      },
      "source": [
        "single_text = gpt2.generate(sess, prefix=\"Civil society will\")\n",
        "print(single_text)"
      ],
      "execution_count": 11,
      "outputs": [
        {
          "output_type": "stream",
          "text": [
            "Civil society will not be able to develop evenly within any community. Any time individuals within a given community can rally around a common objective and focus on the common goal of benefiting society, they have the power to motivate the community. That power extends well beyond the sphere of influence of each individual and fosters the collective sense of being a community. This very distinction should be rewarded enough to view action as possible and to use a positive frame of mind when considering the possibility of mobilizing a collective effort to address the community’s problems. \n",
            "      It is important not only to look at specific conditions where the civic honors program benefits society as a whole, but also to break down some of these instances to understand what exactly the program does for society. This involves looking at the complex relationships between individuals in the community and the establishment of some general trends emerging from a successful civic honors program. It is hard to argue that the mobilization of people within society for the common good is a bad proposition. However, it is important not to rush to judgment on the issue and to take the time to think about the implications for society as a whole. This requires being able to take a step back and look critically at the interactions that occur within communities and think about the assumptions behind them. One of the most basic assumptions about civic honors is that working to strengthen society is a step in the right direction for forging a just society. Taking the first step requires believing that a society where individuals work to benefit the community is a decent society. Working toward the end of developing a decent society is a necessary step in benefiting the community as a whole (Margalit, 1996).\n",
            "Increasing Civic Participation\n",
            "The best way to benefit the community as a whole is to get more individuals involved in the spirit of civic participation. \n",
            "      One of the ultimate goals of the civic honors program is to increase civic participation by mobilizing the people of the community in the interest of building a spirit of volunteerism, which results in strengthening participation. When individuals feel enfranchised by being able to gain something tangible from the civic honors program, a positive feeling is generated, not only from working with the community, but also generalized to the community at large. The hope is that this feeling of goodwill will take the form of a feeling of ownership in the community and a heightened general interest in the outcomes of the community. This should extend not only to the community service, but also to the broader context of civic participation. In this context, specifically, community service becomes the means to address a problem much broader than just being a part of the community. The result is an individual’s feeling a sense of community by being empowered to view action as possible in the greater context. \n",
            "      It is important to take a step back and view the civic honors program at this level to allow for a broader discussion of community as a whole. In context, something is often missing in programs that focus on very specific sets of problems. Understanding the greater impact on the population is an important part of being able to guide a program in the right direction. Working toward the goal of increasing civic participation in the community is the critical first step in being able to allow individuals to work within the community. When individuals are helping to increase civic participation with their action, they feel like they are truly making a difference. This distinction of individual action as not only part of the greater good as a whole, but also a conscious effort for the betterment of society sends a powerful message. This message will resonate with the individual who is already working in the community and will show other individuals that action is possible and makes a difference.  \n",
            "      The higher the level of civic participation in the community, the better off society will be in general. Devoting time and energy to the programs that most desperately need assistance removes strain on government to address these problems and also allows the time of the organization to be better spent on helping the community rather than having to recruit volunteers. This has the added benefit of allowing organizations to become more ambitious in working with complex problems by having the power of community mobilization supporting their efforts. Graduation with civic honors can help fill the gaps between what is possible and what currently happens due to, in most cases, a lack of volunteers to accomplish the mission of the organization. A major part of connecting individuals is using communication technologies. Graduation with civic honors is an idea that can engage the community by utilizing emerging technologies to enhance communication. \n",
            "       \n",
            "Breaking Down a Disconnect Between Individuals and the Community\n",
            "Bringing the community together through building connections between individuals and the community is the basis of strengthening the social fabric.\n",
            "       One of the most important parts of any action within the community is to identify the stakeholders involved and the problems they have in common. The biggest problem facing both the individual and the organization is not motivation or finance; it is the connection between the two. Understanding that individuals and members of the organization may\n",
            "None\n"
          ],
          "name": "stdout"
        }
      ]
    }
  ]
}